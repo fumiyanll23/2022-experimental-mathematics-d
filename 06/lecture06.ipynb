{
 "cells": [
  {
   "attachments": {},
   "cell_type": "markdown",
   "metadata": {},
   "source": [
    "# 2022年度第4ターム「実験数学D」 第06回 01/24(火)4限"
   ]
  },
  {
   "cell_type": "code",
   "execution_count": 1,
   "metadata": {},
   "outputs": [
    {
     "name": "stdout",
     "output_type": "stream",
     "text": [
      "Requirement already satisfied: scipy in /home/fumiyanll23/work/2022-experimental-mathematics-d/.venv/lib/python3.10/site-packages (1.10.0)\n",
      "Requirement already satisfied: numpy<1.27.0,>=1.19.5 in /home/fumiyanll23/work/2022-experimental-mathematics-d/.venv/lib/python3.10/site-packages (from scipy) (1.24.1)\n",
      "Note: you may need to restart the kernel to use updated packages.\n"
     ]
    }
   ],
   "source": [
    "# 必要なモジュールをインストールする\n",
    "%pip install scipy"
   ]
  },
  {
   "cell_type": "code",
   "execution_count": 2,
   "metadata": {},
   "outputs": [],
   "source": [
    "# 必要なモジュールをインポートする\n",
    "import scipy"
   ]
  },
  {
   "attachments": {},
   "cell_type": "markdown",
   "metadata": {},
   "source": [
    "以下の制約条件付き非線型最適化問題 (最小化) を解く．"
   ]
  },
  {
   "attachments": {},
   "cell_type": "markdown",
   "metadata": {},
   "source": [
    "## 1. \n",
    "\n",
    "- 目的関数: $z = x_{1}^{2} + x_{2}^{2} + x_{3}^{2}$ の最小化\n",
    "- 制約条件: $2x_{1} + 3x_{2} + x_{3} = 6$\n",
    "- 最適解: $(x_{1}, x_{2}, x_{3}) = (\\frac{6}{7}, \\frac{9}{7}, \\frac{3}{7})$\n",
    "- 最適値: $\\frac{18}{7}$"
   ]
  },
  {
   "cell_type": "code",
   "execution_count": 3,
   "metadata": {},
   "outputs": [
    {
     "name": "stdout",
     "output_type": "stream",
     "text": [
      " message: Optimization terminated successfully\n",
      " success: True\n",
      "  status: 0\n",
      "     fun: 2.5714285714285716\n",
      "       x: [ 8.571e-01  1.286e+00  4.286e-01]\n",
      "     nit: 3\n",
      "     jac: [ 1.714e+00  2.571e+00  8.571e-01]\n",
      "    nfev: 13\n",
      "    njev: 3\n"
     ]
    }
   ],
   "source": [
    "# x1^2+x2^2+x3^2を2x1+3x2+x3=6の制約条件のもとで最小化する\n",
    "# 最適解(x1,x2,x3)=(0.85714285(=6/7), 1.28571429(=9/7), 0.42857143(=3/7))で最適値18/7(=2.5714285714285725)\n",
    "\n",
    "\n",
    "# 目的関数を定義\n",
    "def objective_fnc(x):\n",
    "    x1 = x[0]\n",
    "    x2 = x[1]\n",
    "    x3 = x[2]\n",
    "    return x1**2 + x2**2 + x3**2\n",
    "\n",
    "\n",
    "# 等式制約条件\n",
    "def equality_constraint(x):\n",
    "    x1 = x[0]\n",
    "    x2 = x[1]\n",
    "    x3 = x[2]\n",
    "    return 2 * x1 + 3 * x2 + x3 - 6\n",
    "\n",
    "\n",
    "constraint1 = {\"type\": \"eq\", \"fun\": equality_constraint}\n",
    "constraint = [constraint1]\n",
    "# 初期点を設定\n",
    "x0 = [0, 0, 0]\n",
    "# 逐次二次計画法を実行\n",
    "result = scipy.optimize.minimize(\n",
    "    objective_fnc, x0, method=\"SLSQP\", constraints=constraint\n",
    ")\n",
    "# 計算結果を表示\n",
    "print(result)\n",
    "\n",
    "# 参考文献: Scipyで多変数関数の最小値を求める（逐次二次計画法の利用）(https://qiita.com/toneriver_py/items/f4f46bef9494d6b40b47)\n"
   ]
  },
  {
   "attachments": {},
   "cell_type": "markdown",
   "metadata": {},
   "source": [
    "## 2.\n",
    "\n",
    "- 目的関数: $z = x_{1}^{2} + \\frac{3}{2} x_{2}^{2} - x_{1}x_{2} - 2x_{1} -  4x_{2}$ の最小化\n",
    "- 制約条件: $2x_{1} + 3x_{2} \\leq 6, x_{1} + 4x_{2} \\leq 5\\ (x_{1}, x_{2} \\geq 0)$\n",
    "- 最適解: $(x_{1}, x_{2}) = (\\frac{51}{43}, \\frac{41}{43})$\n",
    "- 最適値: $-4.54 \\cdots$"
   ]
  },
  {
   "cell_type": "code",
   "execution_count": 4,
   "metadata": {},
   "outputs": [
    {
     "name": "stdout",
     "output_type": "stream",
     "text": [
      " message: Optimization terminated successfully\n",
      " success: True\n",
      "  status: 0\n",
      "     fun: -4.546511627907008\n",
      "       x: [ 1.186e+00  9.535e-01]\n",
      "     nit: 3\n",
      "     jac: [-5.814e-01 -2.326e+00]\n",
      "    nfev: 10\n",
      "    njev: 3\n"
     ]
    }
   ],
   "source": [
    "# x1^2+3/2*x2^2-x1x2-2x1-4x2を2x1+3x2<=6,x1+4x2<=5,x1>=0,x2>=0の制約条件のもとで最小化する\n",
    "# 最適解(x1,x2)=(1.18604651(=51/43), 0.95348837(=41/43))で最適値-4.5465116279069555\n",
    "\n",
    "\n",
    "# 目的関数を定義\n",
    "def objective_fnc(x):\n",
    "    x1 = x[0]\n",
    "    x2 = x[1]\n",
    "    return x1**2 + 3 * x2**2 / 2 - x1 * x2 - 2 * x1 - 4 * x2\n",
    "\n",
    "\n",
    "# 不等式制約条件1: 2x1+3x2-6>=0\n",
    "def inequality_constraint(x):\n",
    "    x1 = x[0]\n",
    "    x2 = x[1]\n",
    "    return -2 * x1 - 3 * x2 + 6\n",
    "\n",
    "\n",
    "# 不等式制約条件2: x1+4x2-5>=0\n",
    "def inequality_constraint2(x):\n",
    "    x1 = x[0]\n",
    "    x2 = x[1]\n",
    "    return -x1 - 4 * x2 + 5\n",
    "\n",
    "\n",
    "# x1,x2の定義域を0~100にすることで制約条件のx1>=0とx2>=0を満たすようにする\n",
    "bounds_x1 = (0, 100)\n",
    "bounds_x2 = (0, 100)\n",
    "bound = [bounds_x1, bounds_x2]\n",
    "\n",
    "constraint2 = {\n",
    "    \"type\": \"ineq\",\n",
    "    \"fun\": inequality_constraint,\n",
    "    \"fun\": inequality_constraint2,\n",
    "}\n",
    "constraint = [constraint2]\n",
    "\n",
    "# 初期点を設定\n",
    "x0 = [-1, -1]\n",
    "# 逐次二次計画法を実行\n",
    "result = scipy.optimize.minimize(\n",
    "    objective_fnc, x0, method=\"SLSQP\", constraints=constraint\n",
    ")\n",
    "\n",
    "# 計算結果を表示\n",
    "print(result)\n",
    "\n",
    "# 参考文献:Scipyで多変数関数の最小値を求める（逐次二次計画法の利用）(https://qiita.com/toneriver_py/items/f4f46bef9494d6b40b47)\n"
   ]
  },
  {
   "attachments": {},
   "cell_type": "markdown",
   "metadata": {},
   "source": [
    "## 3.\n",
    "\n",
    "- 目的関数: $z = \\Sigma_{i = 0}^{7} w_{i}d_{i}$ の最小化\n",
    "- 制約条件: $d_{i} \\geq \\sqrt{(X - x_{i})^{2} + (Y - y_{i})^{2}}$\n",
    "- 最適解: $(X, Y) \\approx (72.41, 12.55)$"
   ]
  },
  {
   "cell_type": "code",
   "execution_count": null,
   "metadata": {},
   "outputs": [],
   "source": []
  }
 ],
 "metadata": {
  "kernelspec": {
   "display_name": ".venv",
   "language": "python",
   "name": "python3"
  },
  "language_info": {
   "codemirror_mode": {
    "name": "ipython",
    "version": 3
   },
   "file_extension": ".py",
   "mimetype": "text/x-python",
   "name": "python",
   "nbconvert_exporter": "python",
   "pygments_lexer": "ipython3",
   "version": "3.10.7"
  },
  "orig_nbformat": 4,
  "vscode": {
   "interpreter": {
    "hash": "7167cb1ff8401770b89e43c3882fd7358b23fca54f3479d9c5698f6f5c458d9c"
   }
  }
 },
 "nbformat": 4,
 "nbformat_minor": 2
}
