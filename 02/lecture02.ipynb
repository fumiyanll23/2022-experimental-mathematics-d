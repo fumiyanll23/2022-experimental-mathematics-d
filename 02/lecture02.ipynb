{
 "cells": [
  {
   "attachments": {},
   "cell_type": "markdown",
   "metadata": {},
   "source": [
    "# 2022年度第4ターム「実験数学D」 第02回 12/13(火)4限"
   ]
  },
  {
   "cell_type": "code",
   "execution_count": null,
   "metadata": {},
   "outputs": [],
   "source": [
    "# 必要なモジュールをインストールする\n",
    "%pip install pulp numpy"
   ]
  },
  {
   "cell_type": "code",
   "execution_count": 16,
   "metadata": {},
   "outputs": [],
   "source": [
    "# 必要なモジュールをインポートする\n",
    "import numpy as np\n",
    "import pulp"
   ]
  },
  {
   "attachments": {},
   "cell_type": "markdown",
   "metadata": {},
   "source": [
    "以下の線型最適化問題 (最大化) を解く"
   ]
  },
  {
   "attachments": {},
   "cell_type": "markdown",
   "metadata": {},
   "source": [
    "## 1.\n",
    "\n",
    "- 目的関数: $z = 150x_{1} + 200x_{2} + 300x_{3}$\n",
    "- 制約条件: $3x_{1} + x_{2} + 2x_{3} \\leq 60, x_{1} + 3x_{2} \\leq 36, 2x_{2} + 4x_{3} \\leq 48\\ (x_{1}, x_{2}, x_{3} \\geq 0)$\n",
    "- 最適解は $(x_{1}, x_{2}, x_{3}) = (12, 8, 8)$ で，最適値は $5800$ ．"
   ]
  },
  {
   "cell_type": "code",
   "execution_count": 17,
   "metadata": {},
   "outputs": [
    {
     "name": "stdout",
     "output_type": "stream",
     "text": [
      "Welcome to the CBC MILP Solver \n",
      "Version: 2.10.3 \n",
      "Build Date: Dec 15 2019 \n",
      "\n",
      "command line - /home/fumiyanll23/work/2022-experimental-mathematics-d/.venv/lib/python3.10/site-packages/pulp/solverdir/cbc/linux/64/cbc /tmp/c8183414c09147a1b34601a8e92e9509-pulp.mps max timeMode elapsed branch printingOptions all solution /tmp/c8183414c09147a1b34601a8e92e9509-pulp.sol (default strategy 1)\n",
      "At line 2 NAME          MODEL\n",
      "At line 3 ROWS\n",
      "At line 8 COLUMNS\n",
      "At line 19 RHS\n",
      "At line 23 BOUNDS\n",
      "At line 24 ENDATA\n",
      "Problem MODEL has 3 rows, 3 columns and 7 elements\n",
      "Coin0008I MODEL read with 0 errors\n",
      "Option for timeMode changed from cpu to elapsed\n",
      "Presolve 3 (0) rows, 3 (0) columns and 7 (0) elements\n",
      "0  Obj -0 Dual inf 650 (3)\n",
      "0  Obj -0 Dual inf 650 (3)\n",
      "3  Obj 5800\n",
      "Optimal - objective value 5800\n",
      "Optimal objective 5800 - 3 iterations time 0.002\n",
      "Option for printingOptions changed from normal to all\n",
      "Total time (CPU seconds):       0.00   (Wallclock seconds):       0.00\n",
      "\n",
      "02-01:\n",
      "MAXIMIZE\n",
      "150*x1 + 200*x2 + 300*x3 + 0\n",
      "SUBJECT TO\n",
      "_C1: 3 x1 + x2 + 2 x3 <= 60\n",
      "\n",
      "_C2: x1 + 3 x2 <= 36\n",
      "\n",
      "_C3: 2 x2 + 4 x3 <= 48\n",
      "\n",
      "VARIABLES\n",
      "x1 Continuous\n",
      "x2 Continuous\n",
      "x3 Continuous\n",
      "\n",
      "Optimal\n",
      "最適値: z = 5800.0\n",
      "最適解:\n",
      "x1 = 12.0\n",
      "x2 = 8.0\n",
      "x3 = 8.0\n"
     ]
    }
   ],
   "source": [
    "# 1. 以下の線型最適化問題 (最大化) を解く:\n",
    "# 目的関数: z = 150x_1 + 200x_2 + 300x_3\n",
    "# 制約条件: 3x_1 + x_2 + x_3 <= 60, x_1 + 3x_2 <= 36, 2x_2 + 4x_3 <= 48 (x_1, x_2, x_3 >= 0)\n",
    "# 線型最適化問題 (最大化) を定義する\n",
    "prob = pulp.LpProblem(name=\"02-01\", sense=pulp.LpMaximize)\n",
    "# 制約条件のパラメータを設定する\n",
    "Ass = np.array([\n",
    "    [3, 1, 2],\n",
    "    [1, 3, 0],\n",
    "    [0, 2, 4],\n",
    "])\n",
    "bs = np.array([60, 36, 48])\n",
    "cs = np.array([150, 200, 300])\n",
    "# 係数行列Aの行数mと列数n\n",
    "m, n = Ass.shape\n",
    "# 変数を定義する\n",
    "xs = [pulp.LpVariable(f\"x{i+1}\", lowBound=0) for i in range(n)]\n",
    "# 目的関数を設定する\n",
    "prob += pulp.lpDot(cs, xs)\n",
    "# 制約条件を設定する\n",
    "for i, (As, b) in enumerate(zip(Ass, bs)):\n",
    "    prob += pulp.lpDot(As, xs) <= b\n",
    "# 問題を解く\n",
    "prob.solve()\n",
    "# 結果を表示する\n",
    "print(prob)\n",
    "print(pulp.LpStatus[prob.status])\n",
    "print(f\"最適値: z = {pulp.value(prob.objective)}\")\n",
    "print(\"最適解:\")\n",
    "for var in prob.variables():\n",
    "    print(f\"{var} = {pulp.value(var)}\")"
   ]
  },
  {
   "attachments": {},
   "cell_type": "markdown",
   "metadata": {},
   "source": [
    "## 2.\n",
    "\n",
    "- 目的関数: $z = 2x_{1} + 3x_{2}$\n",
    "- 制約条件: $x_{1} + 3x_{2} \\leq 9, x_{1} + x_{2} \\leq 4, 2x_{1} + x_{2} \\leq 6\\ (x_{1}, x_{2} \\geq 0)$\n",
    "- 最適解は $(x_{1}, x_{2}) = (\\frac{3}{2}, \\frac{5}{2})$ で，最適値は $\\frac{21}{2}$ ．"
   ]
  },
  {
   "cell_type": "code",
   "execution_count": 18,
   "metadata": {},
   "outputs": [
    {
     "name": "stdout",
     "output_type": "stream",
     "text": [
      "Welcome to the CBC MILP Solver \n",
      "Version: 2.10.3 \n",
      "Build Date: Dec 15 2019 \n",
      "\n",
      "command line - /home/fumiyanll23/work/2022-experimental-mathematics-d/.venv/lib/python3.10/site-packages/pulp/solverdir/cbc/linux/64/cbc /tmp/72b850e56ebf4cb28c4fc00fa9d3a339-pulp.mps max timeMode elapsed branch printingOptions all solution /tmp/72b850e56ebf4cb28c4fc00fa9d3a339-pulp.sol (default strategy 1)\n",
      "At line 2 NAME          MODEL\n",
      "At line 3 ROWS\n",
      "At line 7 COLUMNS\n",
      "At line 14 RHS\n",
      "At line 17 BOUNDS\n",
      "At line 18 ENDATA\n",
      "Problem MODEL has 2 rows, 2 columns and 4 elements\n",
      "Coin0008I MODEL read with 0 errors\n",
      "Option for timeMode changed from cpu to elapsed\n",
      "Presolve 2 (0) rows, 2 (0) columns and 4 (0) elements\n",
      "0  Obj -0 Dual inf 4.9999998 (2)\n",
      "0  Obj -0 Dual inf 4.9999998 (2)\n",
      "2  Obj 10.5\n",
      "Optimal - objective value 10.5\n",
      "Optimal objective 10.5 - 2 iterations time 0.002\n",
      "Option for printingOptions changed from normal to all\n",
      "Total time (CPU seconds):       0.00   (Wallclock seconds):       0.00\n",
      "\n",
      "02-02:\n",
      "MAXIMIZE\n",
      "2*x1 + 3*x2 + 0\n",
      "SUBJECT TO\n",
      "_C1: x1 + 3 x2 <= 9\n",
      "\n",
      "_C2: x1 + x2 <= 4\n",
      "\n",
      "VARIABLES\n",
      "x1 Continuous\n",
      "x2 Continuous\n",
      "\n",
      "Optimal\n",
      "最適値: z = 10.5\n",
      "最適解:\n",
      "x1 = 1.5\n",
      "x2 = 2.5\n"
     ]
    }
   ],
   "source": [
    "# 2. 以下の線型最適化問題 (最大化) を解く:\n",
    "# 目的関数: z = 2x_1 + 3x_2\n",
    "# 制約条件: x_1 + 3x_2 <= 9, x_1 + x_2 <= 4, 2x_1 + x_2 <= 6 (x_1, x_2 >= 0)\n",
    "# 線型最適化問題 (最大化) を定義する\n",
    "prob = pulp.LpProblem(name=\"02-02\", sense=pulp.LpMaximize)\n",
    "# 制約条件のパラメータを設定する\n",
    "Ass = np.array([\n",
    "    [1, 3],\n",
    "    [1, 1],\n",
    "    [2, 1],\n",
    "])\n",
    "bs = np.array([9, 4])\n",
    "cs = np.array([2, 3])\n",
    "# 係数行列Aの行数mと列数n\n",
    "m, n = Ass.shape\n",
    "# 変数を定義する\n",
    "xs = [pulp.LpVariable(f\"x{i+1}\", lowBound=0) for i in range(n)]\n",
    "# 目的関数を設定する\n",
    "prob += pulp.lpDot(cs, xs)\n",
    "# 制約条件を設定する\n",
    "for i, (As, b) in enumerate(zip(Ass, bs)):\n",
    "    prob += pulp.lpDot(As, xs) <= b\n",
    "# 問題を解く\n",
    "prob.solve()\n",
    "# 結果を表示する\n",
    "print(prob)\n",
    "print(pulp.LpStatus[prob.status])\n",
    "print(f\"最適値: z = {pulp.value(prob.objective)}\")\n",
    "print(\"最適解:\")\n",
    "for var in prob.variables():\n",
    "    print(f\"{var} = {pulp.value(var)}\")"
   ]
  }
 ],
 "metadata": {
  "kernelspec": {
   "display_name": ".venv",
   "language": "python",
   "name": "python3"
  },
  "language_info": {
   "codemirror_mode": {
    "name": "ipython",
    "version": 3
   },
   "file_extension": ".py",
   "mimetype": "text/x-python",
   "name": "python",
   "nbconvert_exporter": "python",
   "pygments_lexer": "ipython3",
   "version": "3.10.7"
  },
  "orig_nbformat": 4,
  "vscode": {
   "interpreter": {
    "hash": "7167cb1ff8401770b89e43c3882fd7358b23fca54f3479d9c5698f6f5c458d9c"
   }
  }
 },
 "nbformat": 4,
 "nbformat_minor": 2
}
