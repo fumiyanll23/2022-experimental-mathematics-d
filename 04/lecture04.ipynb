{
 "cells": [
  {
   "attachments": {},
   "cell_type": "markdown",
   "metadata": {},
   "source": [
    "# 2022年度第4ターム「実験数学D」 第04回 01/10(火)4限"
   ]
  },
  {
   "cell_type": "code",
   "execution_count": null,
   "metadata": {},
   "outputs": [],
   "source": [
    "# 必要なモジュールをインストールする\n",
    "%pip install pulp numpy"
   ]
  },
  {
   "cell_type": "code",
   "execution_count": 2,
   "metadata": {},
   "outputs": [],
   "source": [
    "# 必要なモジュールをインポートする\n",
    "import numpy as np\n",
    "import scipy\n",
    "from nptyping import Float, NDArray, Shape"
   ]
  },
  {
   "attachments": {},
   "cell_type": "markdown",
   "metadata": {},
   "source": [
    "以下の制約条件なしの非線型最適化問題 (最小化) を解く．ここで $x = {}^{T}(x_{1}, x_{2})$ である"
   ]
  },
  {
   "attachments": {},
   "cell_type": "markdown",
   "metadata": {},
   "source": [
    "## 1.\n",
    "\n",
    "- 目的関数: $f(\\bm{x}) = x_{1}^{2} + x_{2}^{2} - x_{3}^{2} + 4x_{2}x_{3} - 3x_{1} + 2x_{2} + x_{3} - 6$\n",
    "- 最適解は $(x_{1}, x_{2}, x_{3}) = (\\frac{7}{6}, -\\frac{4}{3}, \\frac{1}{6})$ で，最適値は $-9$ ．"
   ]
  },
  {
   "cell_type": "code",
   "execution_count": null,
   "metadata": {},
   "outputs": [],
   "source": []
  },
  {
   "attachments": {},
   "cell_type": "markdown",
   "metadata": {},
   "source": [
    "## 2.\n",
    "\n",
    "- 目的関数: $f(\\bm{x}) = 100(x_{1}^{2} + x_{2})^{2} + (x_{1} - 1)^{2} + 100(x_{2}^{2} - x_{3}^{2})^{2} + (x_{2} - 1)^{2}$\n",
    "- 最適解は $(x_{1}, x_{2}, x_{3}) = (1, 1, 1)$ で，最適値は $0$ ．\n",
    "\n",
    "Newton法を用いる．"
   ]
  },
  {
   "cell_type": "code",
   "execution_count": 3,
   "metadata": {},
   "outputs": [
    {
     "name": "stdout",
     "output_type": "stream",
     "text": [
      "最適解: x = [1. 1. 1.]\n",
      "最適値: 1.2766836147122762e-19\n"
     ]
    }
   ],
   "source": [
    "# 2. 次の制約条件なしの非線型最適化問題 (最小化) をNewton法で解く. ここでx = T(x1, x2, x3)である:\n",
    "# 目的関数: f(x) = 100(x1^2 + x2)^2 + (x1 - 1)^2 + 100(x2^2 - x3^2)^2 + (x2 - 1)^2\n",
    "# 最適解: (x1, x2, x3) = (1, 1, 1)\n",
    "# 最適値: 0\n",
    "def f(xs: NDArray[Shape[\"3\"], Float]) -> float:\n",
    "    \"\"\"\n",
    "    目的関数\n",
    "    \"\"\"\n",
    "    return sum(100 * (xs[i + 1] - xs[i] ** 2) ** 2 + (xs[i] - 1) ** 2 for i in range(2))\n",
    "\n",
    "\n",
    "def grad_f(xs: NDArray[Shape[\"3\"], Float]) -> NDArray[Shape[\"3\"], Float]:\n",
    "    \"\"\"\n",
    "    目的関数の勾配ベクトル\n",
    "    \"\"\"\n",
    "    return np.array(\n",
    "        [\n",
    "            -400 * xs[0] * (-xs[0] ** 2 + xs[1]) + 2 * xs[0] - 2,\n",
    "            -200 * xs[0] ** 2 - 400 * xs[1] * (-xs[1] ** 2 + xs[2]) + 202 * xs[1] - 2,\n",
    "            -200 * xs[1] ** 2 + 200 * xs[2],\n",
    "        ]\n",
    "    )\n",
    "\n",
    "\n",
    "def hessian_f(xs: NDArray[Shape[\"3\"], Float]) -> NDArray[Shape[\"3, 3\"], Float]:\n",
    "    \"\"\"\n",
    "    目的関数のヘッセ行列\n",
    "    \"\"\"\n",
    "    return np.array(\n",
    "        [\n",
    "            [1200 * xs[0] ** 2 - 400 * xs[1] + 2, -400 * xs[0], 0],\n",
    "            [-400 * xs[0], 1200 * xs[1] ** 2 - 400 * xs[2] + 202, -400 * xs[1]],\n",
    "            [0, -400 * xs[1], 200],\n",
    "        ]\n",
    "    )\n",
    "\n",
    "\n",
    "# 初期点を設定する. ただし, 各成分の型にnp.float64を指定する\n",
    "xs0 = np.array([10, 10, 10], dtype=np.float64)\n",
    "# 許容誤差\n",
    "eps = 1e-6\n",
    "# 最大反復回数\n",
    "iter_max = 100\n",
    "# Newton法で最適解を求める\n",
    "while scipy.linalg.norm(grad_f(xs0)) > eps:\n",
    "    d = -np.dot(scipy.linalg.inv(hessian_f(xs0)), grad_f(xs0))\n",
    "    xs0 += d\n",
    "# 結果を表示する\n",
    "print(f\"最適解: x = {xs0}\")\n",
    "print(f\"最適値: {f(xs0)}\")"
   ]
  },
  {
   "attachments": {},
   "cell_type": "markdown",
   "metadata": {},
   "source": [
    "## 3.\n",
    "\n",
    "- 目的関数: $f(\\bm{x}) = (1.5 - x_{1} + x_{1}x_{2})^{2} + (2.25 - x_{1} + x_{1}x_{2}^{2})^{2} + (2.625 - x_{1} + x_{1}x_{2}^{3})^{2}$ の最小化\n",
    "- 最適解は $(x_{1}, x_{2}) = (3, 0.5)$ で，最適値は $0$ ．\n",
    "\n",
    "準Newton法を用いる．"
   ]
  },
  {
   "cell_type": "code",
   "execution_count": 4,
   "metadata": {},
   "outputs": [
    {
     "name": "stdout",
     "output_type": "stream",
     "text": [
      "  message: Optimization terminated successfully.\n",
      "  success: True\n",
      "   status: 0\n",
      "      fun: 9.027328141904564e-15\n",
      "        x: [ 3.000e+00  5.000e-01]\n",
      "      nit: 13\n",
      "      jac: [-1.339e-07  1.133e-06]\n",
      " hess_inv: [[ 3.235e+00  8.083e-01]\n",
      "            [ 8.083e-01  2.239e-01]]\n",
      "     nfev: 48\n",
      "     njev: 16\n",
      "最適解: x = [3.00000012 0.50000005]\n",
      "最適値: 9.027328141904564e-15\n"
     ]
    }
   ],
   "source": [
    "# 3. 次の制約条件なしの非線型最適化問題 (最小化) を準Newton法で解く. ここでx = T(x1, x2)である:\n",
    "# 目的関数: f(x) = (1.5 - x1 + x1x2)^2 + (2.25 - x1 + x1x2^2)^2 + (2.625 - x1 + x1x2^3)^2\n",
    "# 最適解: (x1, x2) = (3, 0.5)\n",
    "# 最適値: 0\n",
    "def f(xs: NDArray[Shape[\"3\"], Float]) -> float:\n",
    "    \"\"\"\n",
    "    目的関数\n",
    "    \"\"\"\n",
    "    return (\n",
    "        (1.5 - xs[0] + xs[0] * xs[1]) ** 2\n",
    "        + (2.25 - xs[0] + xs[0] * (xs[1] ** 2)) ** 2\n",
    "        + (2.625 - xs[0] + xs[0] * (xs[1] ** 3)) ** 2\n",
    "    )\n",
    "\n",
    "\n",
    "# 初期点を設定する\n",
    "xs0 = np.array([0, 0])\n",
    "# 準Newton法で大域的最適解を求める\n",
    "ans = scipy.optimize.minimize(f, xs0, method=\"BFGS\")\n",
    "# 結果を表示する\n",
    "print(ans)\n",
    "print(f\"最適解: x = {ans.x}\")\n",
    "print(f\"最適値: {ans.fun}\")"
   ]
  }
 ],
 "metadata": {
  "kernelspec": {
   "display_name": ".venv",
   "language": "python",
   "name": "python3"
  },
  "language_info": {
   "codemirror_mode": {
    "name": "ipython",
    "version": 3
   },
   "file_extension": ".py",
   "mimetype": "text/x-python",
   "name": "python",
   "nbconvert_exporter": "python",
   "pygments_lexer": "ipython3",
   "version": "3.10.7"
  },
  "orig_nbformat": 4,
  "vscode": {
   "interpreter": {
    "hash": "7167cb1ff8401770b89e43c3882fd7358b23fca54f3479d9c5698f6f5c458d9c"
   }
  }
 },
 "nbformat": 4,
 "nbformat_minor": 2
}
